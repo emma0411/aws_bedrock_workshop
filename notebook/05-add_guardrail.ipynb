{
 "cells": [
  {
   "cell_type": "markdown",
   "id": "88e77fb3-5781-4dbd-b8f2-f261d516d214",
   "metadata": {},
   "source": [
    "# Guardrails\n",
    "\n",
    "In this notebook, we will explore the use of guardrails in Amazon Bedrock, a feature designed to control and restrict agent behaviour during interactions.\n",
    "\n",
    "Guardrails allow you to:\n",
    "\n",
    "- Prevent unwanted inputs (e.g., sensitive information or unsafe commands).\n",
    "\n",
    "- Restrict inappropriate outputs from the agent.\n",
    "\n",
    "- Keep conversations within safe and defined boundaries, ensuring that the agent follows specific organisational policies or rules.\n",
    "\n",
    "Introduction to the types of guardrails available.\n",
    "\n",
    "- Creating and configuring input and output rules.\n",
    "\n",
    "- Associating guardrails with an existing agent.\n",
    "\n",
    "- Behaviour testing with restricted input examples.\n",
    "\n",
    "https://docs.aws.amazon.com/bedrock/latest/userguide/guardrails.html"
   ]
  },
  {
   "cell_type": "code",
   "execution_count": 56,
   "id": "deb89753-15fb-42d9-a517-2499a834ebcc",
   "metadata": {
    "execution": {
     "iopub.execute_input": "2025-10-16T14:29:23.612364Z",
     "iopub.status.busy": "2025-10-16T14:29:23.612114Z",
     "iopub.status.idle": "2025-10-16T14:29:23.615443Z",
     "shell.execute_reply": "2025-10-16T14:29:23.614753Z",
     "shell.execute_reply.started": "2025-10-16T14:29:23.612345Z"
    }
   },
   "outputs": [],
   "source": [
    "import boto3\n",
    "import json\n",
    "import uuid\n",
    "\n",
    "from utils import invoke_agent_helper"
   ]
  },
  {
   "cell_type": "code",
   "execution_count": 18,
   "id": "7262dada-9d12-4cd4-aeab-f2a1409cc061",
   "metadata": {
    "execution": {
     "iopub.execute_input": "2025-10-16T13:54:36.412105Z",
     "iopub.status.busy": "2025-10-16T13:54:36.411850Z",
     "iopub.status.idle": "2025-10-16T13:54:36.436309Z",
     "shell.execute_reply": "2025-10-16T13:54:36.435675Z",
     "shell.execute_reply.started": "2025-10-16T13:54:36.412085Z"
    }
   },
   "outputs": [],
   "source": [
    "session = boto3.session.Session()\n",
    "region = session.region_name\n",
    "\n",
    "bedrock_client = boto3.client('bedrock')\n",
    "bedrock_agent_client = boto3.client('bedrock-agent')\n",
    "bedrock_agent_runtime_client = boto3.client('bedrock-agent-runtime')\n",
    "bedrock_runtime = boto3.client(service_name='bedrock-runtime', region_name=region)"
   ]
  },
  {
   "cell_type": "code",
   "execution_count": 15,
   "id": "3b01d162-7cb3-46a0-b6a7-80d3bf9dc7ef",
   "metadata": {
    "execution": {
     "iopub.execute_input": "2025-10-16T13:53:05.376919Z",
     "iopub.status.busy": "2025-10-16T13:53:05.376658Z",
     "iopub.status.idle": "2025-10-16T13:53:05.380047Z",
     "shell.execute_reply": "2025-10-16T13:53:05.379567Z",
     "shell.execute_reply.started": "2025-10-16T13:53:05.376900Z"
    }
   },
   "outputs": [],
   "source": [
    "# complete with yours\n",
    "agent_id = 'XXXXXXXXX'\n",
    "alias_id = 'TSTALIASID' # it works with any agent\n",
    "\n",
    "kb_id = 'XXXXXXXXX'\n",
    "\n",
    "model_sonnet_id = \"eu.anthropic.claude-3-7-sonnet-20250219-v1:0\"\n",
    "model_arn = 'arn:aws:bedrock:xx-xxxxx-x:XXXXXXXXX:inference-profile/eu.anthropic.claude-3-7-sonnet-20250219-v1:0'"
   ]
  },
  {
   "cell_type": "markdown",
   "id": "0c78e572-75f0-4364-aefd-b4a090f74f05",
   "metadata": {},
   "source": [
    "# Create Guardrails\n",
    "We can specify filters, topics, words, etc."
   ]
  },
  {
   "cell_type": "code",
   "execution_count": 4,
   "id": "26420606-9b63-415a-b506-aaf2fa19904a",
   "metadata": {
    "execution": {
     "iopub.execute_input": "2025-10-16T13:49:38.123423Z",
     "iopub.status.busy": "2025-10-16T13:49:38.123149Z",
     "iopub.status.idle": "2025-10-16T13:49:38.126927Z",
     "shell.execute_reply": "2025-10-16T13:49:38.126246Z",
     "shell.execute_reply.started": "2025-10-16T13:49:38.123405Z"
    }
   },
   "outputs": [],
   "source": [
    "# define topics\n",
    "\n",
    "topics_config = {\n",
    "    'topicsConfig': [\n",
    "        {\n",
    "            'name': 'Cooking and Recipes',\n",
    "            'definition': 'Prevent the agent from giving cooking instructions, recipes, or food preparation advice.',\n",
    "            'examples': [\n",
    "                'How do I make a chocolate cake?',\n",
    "                'Give me a recipe for spaghetti carbonara.',\n",
    "                'Step-by-step instructions to bake cookies.'\n",
    "            ],\n",
    "            'type': 'DENY'\n",
    "        },\n",
    "        {\n",
    "            'name': 'Funny Warnings',\n",
    "            'definition': 'Warn users about potentially off-topic or silly requests that are outside the agent’s scope.',\n",
    "            'examples': [\n",
    "                'Tell me how to turn my house into a giant pancake.',\n",
    "                'Give me a recipe for a magic potion.'\n",
    "            ],\n",
    "            'type': 'DENY'\n",
    "        }\n",
    "    ]\n",
    "}"
   ]
  },
  {
   "cell_type": "code",
   "execution_count": 5,
   "id": "0e414a4d-c6af-417f-9e81-52bc377e8d83",
   "metadata": {
    "execution": {
     "iopub.execute_input": "2025-10-16T13:49:38.655933Z",
     "iopub.status.busy": "2025-10-16T13:49:38.655672Z",
     "iopub.status.idle": "2025-10-16T13:49:38.660527Z",
     "shell.execute_reply": "2025-10-16T13:49:38.659786Z",
     "shell.execute_reply.started": "2025-10-16T13:49:38.655911Z"
    }
   },
   "outputs": [],
   "source": [
    "# define content config and word\n",
    "\n",
    "content_config = {\n",
    "        'filtersConfig': [\n",
    "            {\n",
    "                'type': 'SEXUAL',\n",
    "                'inputStrength': 'HIGH',\n",
    "                'outputStrength': 'HIGH'\n",
    "            },\n",
    "            {\n",
    "                'type': 'VIOLENCE',\n",
    "                'inputStrength': 'HIGH',\n",
    "                'outputStrength': 'HIGH'\n",
    "            },\n",
    "            {\n",
    "                'type': 'HATE',\n",
    "                'inputStrength': 'HIGH',\n",
    "                'outputStrength': 'HIGH'\n",
    "            },\n",
    "            {\n",
    "                'type': 'INSULTS',\n",
    "                'inputStrength': 'HIGH',\n",
    "                'outputStrength': 'HIGH'\n",
    "            },\n",
    "            {\n",
    "                'type': 'MISCONDUCT',\n",
    "                'inputStrength': 'HIGH',\n",
    "                'outputStrength': 'HIGH'\n",
    "            },\n",
    "            {\n",
    "                'type': 'PROMPT_ATTACK',\n",
    "                'inputStrength': 'HIGH',\n",
    "                'outputStrength': 'NONE'\n",
    "            }\n",
    "        ]\n",
    "    }\n",
    "\n",
    "word_config = {\n",
    "    'wordsConfig': [\n",
    "            {'text': 'fiduciary advice'},\n",
    "            {'text': 'investment recommendations'},\n",
    "            {'text': 'stock picks'},\n",
    "            {'text': 'financial planning guidance'},\n",
    "            {'text': 'portfolio allocation advice'},\n",
    "            {'text': 'retirement fund suggestions'},\n",
    "            {'text': 'trust fund setup'},\n",
    "            {'text': 'investment strategy'},\n",
    "            {'text': 'financial advisor recommendations'}\n",
    "        ],\n",
    "        'managedWordListsConfig': [\n",
    "            {'type': 'PROFANITY'}\n",
    "        ]\n",
    "    }"
   ]
  },
  {
   "cell_type": "code",
   "execution_count": 6,
   "id": "217182d2-2010-4b97-9890-38dded6fdea5",
   "metadata": {
    "execution": {
     "iopub.execute_input": "2025-10-16T13:49:39.398894Z",
     "iopub.status.busy": "2025-10-16T13:49:39.398556Z",
     "iopub.status.idle": "2025-10-16T13:49:39.402827Z",
     "shell.execute_reply": "2025-10-16T13:49:39.402016Z",
     "shell.execute_reply.started": "2025-10-16T13:49:39.398872Z"
    }
   },
   "outputs": [],
   "source": [
    "sensitive_config = {\n",
    "        'piiEntitiesConfig': [\n",
    "            {'type': 'EMAIL', 'action': 'ANONYMIZE'},\n",
    "            {'type': 'PHONE', 'action': 'ANONYMIZE'},\n",
    "            {'type': 'NAME', 'action': 'ANONYMIZE'},\n",
    "            {'type': 'SOCIAL_SECURITY_NUMBER', 'action': 'BLOCK'},\n",
    "            {'type': 'BANK_ACCOUNT_NUMBER', 'action': 'BLOCK'},\n",
    "            {'type': 'CREDIT_DEBIT_CARD_NUMBER', 'action': 'BLOCK'}\n",
    "        ],\n",
    "        'regexesConfig': [\n",
    "            {\n",
    "                'name': 'Account Number',\n",
    "                'description': 'Matches account numbers in the format XXXXXX1234',\n",
    "                'pattern': r'\\b\\d{6}\\d{4}\\b',\n",
    "                'action': 'ANONYMIZE'\n",
    "            }\n",
    "        ]\n",
    "    }"
   ]
  },
  {
   "cell_type": "code",
   "execution_count": 23,
   "id": "9a5f58e5-8d3c-4166-bfef-ba21f3884443",
   "metadata": {
    "execution": {
     "iopub.execute_input": "2025-10-16T14:03:46.204403Z",
     "iopub.status.busy": "2025-10-16T14:03:46.204139Z",
     "iopub.status.idle": "2025-10-16T14:03:46.207745Z",
     "shell.execute_reply": "2025-10-16T14:03:46.206880Z",
     "shell.execute_reply.started": "2025-10-16T14:03:46.204384Z"
    }
   },
   "outputs": [],
   "source": [
    "guardrailName = \"chat-advice\""
   ]
  },
  {
   "cell_type": "code",
   "execution_count": 9,
   "id": "e8f572ff-f024-4f4f-9a3b-250f3696951e",
   "metadata": {
    "execution": {
     "iopub.execute_input": "2025-10-16T13:50:03.142317Z",
     "iopub.status.busy": "2025-10-16T13:50:03.142050Z",
     "iopub.status.idle": "2025-10-16T13:50:03.488328Z",
     "shell.execute_reply": "2025-10-16T13:50:03.487588Z",
     "shell.execute_reply.started": "2025-10-16T13:50:03.142299Z"
    }
   },
   "outputs": [],
   "source": [
    "# create guardrail api\n",
    "\n",
    "create_response = bedrock_client.create_guardrail(\n",
    "    name=guardrailName,\n",
    "    description='Prevents the our model from providing recipes advice.',\n",
    "    topicPolicyConfig=topics_config,\n",
    "    contentPolicyConfig=content_config,\n",
    "    wordPolicyConfig=word_config,\n",
    "    sensitiveInformationPolicyConfig=sensitive_config,\n",
    "    contextualGroundingPolicyConfig={\n",
    "        'filtersConfig': [\n",
    "            {\n",
    "                'type': 'GROUNDING',\n",
    "                'threshold': 0.75\n",
    "            },\n",
    "            {\n",
    "                'type': 'RELEVANCE',\n",
    "                'threshold': 0.75\n",
    "            }\n",
    "        ]\n",
    "    },\n",
    "    blockedInputMessaging=\"\"\"Sorry, the model cannot answer this question. Please review the trace for more details.\"\"\",\n",
    "    blockedOutputsMessaging=\"\"\"Sorry, the model cannot answer this question. Please review the trace for more details.\"\"\",\n",
    "    tags=[\n",
    "        {'key': 'purpose', 'value': 'recipes-advice-prevention'},\n",
    "        {'key': 'environment', 'value': 'production'}\n",
    "    ]\n",
    ")\n"
   ]
  },
  {
   "cell_type": "code",
   "execution_count": null,
   "id": "138c913a-2c00-4b52-9c70-b2cdcaa955fe",
   "metadata": {
    "execution": {
     "iopub.execute_input": "2025-10-16T13:50:17.347745Z",
     "iopub.status.busy": "2025-10-16T13:50:17.347486Z",
     "iopub.status.idle": "2025-10-16T13:50:17.354145Z",
     "shell.execute_reply": "2025-10-16T13:50:17.353434Z",
     "shell.execute_reply.started": "2025-10-16T13:50:17.347726Z"
    }
   },
   "outputs": [],
   "source": [
    "create_response"
   ]
  },
  {
   "cell_type": "code",
   "execution_count": null,
   "id": "d5e1e22e-18ac-4d61-abfc-ef974589f41e",
   "metadata": {
    "execution": {
     "iopub.execute_input": "2025-10-16T13:51:14.039226Z",
     "iopub.status.busy": "2025-10-16T13:51:14.038951Z",
     "iopub.status.idle": "2025-10-16T13:51:14.242949Z",
     "shell.execute_reply": "2025-10-16T13:51:14.242229Z",
     "shell.execute_reply.started": "2025-10-16T13:51:14.039206Z"
    }
   },
   "outputs": [],
   "source": [
    "# create a version\n",
    "version_response = bedrock_client.create_guardrail_version(\n",
    "    guardrailIdentifier=create_response['guardrailId'],\n",
    "    description='First Version'\n",
    ")\n",
    "version_response"
   ]
  },
  {
   "cell_type": "markdown",
   "id": "d7c74c76-39a4-4070-b718-5289bb47196d",
   "metadata": {},
   "source": [
    "As with the agent and the kb, we can access the guardrail through its ID."
   ]
  },
  {
   "cell_type": "code",
   "execution_count": 14,
   "id": "1fa407e2-5d58-43fa-8ad5-474b8cea6158",
   "metadata": {
    "execution": {
     "iopub.execute_input": "2025-10-16T13:51:54.579094Z",
     "iopub.status.busy": "2025-10-16T13:51:54.578825Z",
     "iopub.status.idle": "2025-10-16T13:51:54.582081Z",
     "shell.execute_reply": "2025-10-16T13:51:54.581436Z",
     "shell.execute_reply.started": "2025-10-16T13:51:54.579075Z"
    }
   },
   "outputs": [],
   "source": [
    "guardrailId = version_response['guardrailId']\n",
    "guardrailVersion = version_response['version']"
   ]
  },
  {
   "cell_type": "markdown",
   "id": "493d38ed-8247-485d-bc8f-8f61ce269366",
   "metadata": {},
   "source": [
    "# Invoke Model\n",
    "\n",
    "We have now defined our Guardrail. Before adding it to the Agent, we can test it by adding it to *invoke_model*."
   ]
  },
  {
   "cell_type": "code",
   "execution_count": 20,
   "id": "f72862f8-1d93-428a-8c1d-bc58ef41143b",
   "metadata": {
    "execution": {
     "iopub.execute_input": "2025-10-16T13:55:03.957009Z",
     "iopub.status.busy": "2025-10-16T13:55:03.956742Z",
     "iopub.status.idle": "2025-10-16T13:55:03.960634Z",
     "shell.execute_reply": "2025-10-16T13:55:03.959828Z",
     "shell.execute_reply.started": "2025-10-16T13:55:03.956989Z"
    }
   },
   "outputs": [],
   "source": [
    "# Create request body for Claude 3.7 Sonnet\n",
    "\n",
    "prompt = \"How should I cook tonight?\"\n",
    "\n",
    "claude_body = json.dumps({\n",
    "    \"anthropic_version\": \"bedrock-2023-05-31\",\n",
    "    \"max_tokens\": 1000,\n",
    "    \"temperature\": 0.5,\n",
    "    \"top_p\": 0.9,\n",
    "    \"messages\": [\n",
    "        {\n",
    "            \"role\": \"user\",\n",
    "            \"content\": [{\"type\": \"text\", \"text\": prompt}]\n",
    "        }\n",
    "    ],\n",
    "})"
   ]
  },
  {
   "cell_type": "code",
   "execution_count": 21,
   "id": "4714faf4-9a50-475b-bfc0-9aa5f23a1526",
   "metadata": {
    "execution": {
     "iopub.execute_input": "2025-10-16T13:57:01.308711Z",
     "iopub.status.busy": "2025-10-16T13:57:01.308461Z",
     "iopub.status.idle": "2025-10-16T13:57:01.775768Z",
     "shell.execute_reply": "2025-10-16T13:57:01.774940Z",
     "shell.execute_reply.started": "2025-10-16T13:57:01.308692Z"
    }
   },
   "outputs": [],
   "source": [
    "response = bedrock_runtime.invoke_model(\n",
    "        modelId=model_sonnet_id,\n",
    "        body=claude_body,\n",
    "        accept=\"application/json\",\n",
    "        contentType=\"application/json\",\n",
    "        guardrailIdentifier = guardrailId, \n",
    "        guardrailVersion = guardrailVersion, \n",
    "        trace = \"ENABLED\"\n",
    "    )\n",
    "\n",
    "response_body = json.loads(response.get('body').read())"
   ]
  },
  {
   "cell_type": "code",
   "execution_count": null,
   "id": "02816206-5b56-4205-827b-65111bebc27a",
   "metadata": {
    "execution": {
     "iopub.execute_input": "2025-10-16T13:57:06.362122Z",
     "iopub.status.busy": "2025-10-16T13:57:06.361857Z",
     "iopub.status.idle": "2025-10-16T13:57:06.367412Z",
     "shell.execute_reply": "2025-10-16T13:57:06.366542Z",
     "shell.execute_reply.started": "2025-10-16T13:57:06.362100Z"
    }
   },
   "outputs": [],
   "source": [
    "response_body"
   ]
  },
  {
   "cell_type": "markdown",
   "id": "07ac3b94-9a8c-4131-94b8-bfa5ab4b0f5e",
   "metadata": {},
   "source": [
    "Currently, Guardarail only works with text, but we could also adapt it to filter images..."
   ]
  },
  {
   "cell_type": "markdown",
   "id": "17dc50c4-f11d-4e9d-a1d9-3fc2d07bf624",
   "metadata": {},
   "source": [
    "## Guardrail with images\n",
    "\n",
    "We have updated the guardrail to work with images... (not enabled in this region)"
   ]
  },
  {
   "cell_type": "code",
   "execution_count": null,
   "id": "d9502d1a-c1c1-4591-84fc-ab3c2e1bba49",
   "metadata": {
    "execution": {
     "iopub.execute_input": "2025-10-16T14:04:55.932720Z",
     "iopub.status.busy": "2025-10-16T14:04:55.932458Z",
     "iopub.status.idle": "2025-10-16T14:04:56.082402Z",
     "shell.execute_reply": "2025-10-16T14:04:56.081606Z",
     "shell.execute_reply.started": "2025-10-16T14:04:55.932700Z"
    },
    "scrolled": true
   },
   "outputs": [],
   "source": [
    "update_guardrail_response = bedrock_client.update_guardrail(\n",
    "        guardrailIdentifier=guardrailId,\n",
    "        name=guardrailName,\n",
    "        description='Detect and block harmful images.',\n",
    "        contentPolicyConfig={\n",
    "            'filtersConfig': [\n",
    "                {\n",
    "                    'type': 'SEXUAL',\n",
    "                    'inputStrength': 'HIGH',\n",
    "                    'outputStrength': 'HIGH',\n",
    "                    'inputModalities': ['TEXT', 'IMAGE'],\n",
    "                    'outputModalities': ['TEXT', 'IMAGE']\n",
    "                },\n",
    "                {\n",
    "                    'type': 'VIOLENCE',\n",
    "                    'inputStrength': 'HIGH',\n",
    "                    'outputStrength': 'HIGH',\n",
    "                    'inputModalities': ['TEXT', 'IMAGE'],\n",
    "                    'outputModalities': ['TEXT', 'IMAGE']\n",
    "                },\n",
    "                {\n",
    "                    'type': 'HATE',\n",
    "                    'inputStrength': 'HIGH',\n",
    "                    'outputStrength': 'HIGH',\n",
    "                    'inputModalities': ['TEXT', 'IMAGE'],\n",
    "                    'outputModalities': ['TEXT', 'IMAGE']\n",
    "                },\n",
    "                {\n",
    "                    'type': 'INSULTS',\n",
    "                    'inputStrength': 'HIGH',\n",
    "                    'outputStrength': 'HIGH',\n",
    "                    'inputModalities': ['TEXT', 'IMAGE'],\n",
    "                    'outputModalities': ['TEXT', 'IMAGE']\n",
    "                },\n",
    "                {\n",
    "                    'type': 'MISCONDUCT',\n",
    "                    'inputStrength': 'HIGH',\n",
    "                    'outputStrength': 'HIGH',\n",
    "                    'inputModalities': ['TEXT', 'IMAGE'],\n",
    "                    'outputModalities': ['TEXT', 'IMAGE']\n",
    "                },\n",
    "                {\n",
    "                    'type': 'PROMPT_ATTACK',\n",
    "                    'inputStrength': 'HIGH',\n",
    "                    'outputStrength': 'NONE',\n",
    "                    'inputModalities': ['TEXT', 'IMAGE'],\n",
    "                    'outputModalities': ['TEXT', 'IMAGE']\n",
    "                }\n",
    "            ]\n",
    "        },\n",
    "        blockedInputMessaging='Sorry, the model cannot answer this question. Please review the trace for more details.',\n",
    "        blockedOutputsMessaging='Sorry, the model cannot answer this question. Please review the trace for more details.',\n",
    "    )"
   ]
  },
  {
   "cell_type": "code",
   "execution_count": null,
   "id": "38f83a92-8f38-4d4c-a6e5-09d87b658512",
   "metadata": {},
   "outputs": [],
   "source": [
    "# create guardrail version\n",
    "version_response = bedrock_client.create_guardrail_version(\n",
    "    guardrailIdentifier=update_guardrail_response['guardrailId'],\n",
    "    description='Version of Guardrail that has a image filter'\n",
    ")\n",
    "\n",
    "# get id\n",
    "guardrailId = version_response['guardrailId']\n",
    "guardrailVersion = version_response['version']"
   ]
  },
  {
   "cell_type": "markdown",
   "id": "228eda52-e6a6-4ec4-b491-62cbcf2bad53",
   "metadata": {},
   "source": [
    "### Test images"
   ]
  },
  {
   "cell_type": "code",
   "execution_count": null,
   "id": "a0353217-46b7-4f68-8eac-2f3323e5f51d",
   "metadata": {},
   "outputs": [],
   "source": [
    "# configure message and guardrail config\n",
    "\n",
    "input_text = \"Describe the image\"\n",
    "image_path = \"test-image1.jpg\"\n",
    "\n",
    "with open(image_path, 'rb') as image:\n",
    "    image_bytes = image.read()\n",
    "\n",
    "message = {\n",
    "            \"role\": \"user\",\n",
    "            \"content\": [\n",
    "                {\"text\": input_text},                \n",
    "                {\n",
    "                    \"image\": {\n",
    "                        \"format\": \"jpeg\",\n",
    "                        \"source\": {\"bytes\": image_bytes}\n",
    "                    }\n",
    "                }            \n",
    "            ]\n",
    "        }\n",
    "\n",
    "guardrail_config = {\n",
    "            \"guardrailIdentifier\": guardrailId,\n",
    "            \"guardrailVersion\": guardrailVersion\n",
    "        }\n"
   ]
  },
  {
   "cell_type": "code",
   "execution_count": null,
   "id": "4b2d9489-e166-439c-815e-50f87ceed77a",
   "metadata": {},
   "outputs": [],
   "source": [
    "# Make API call\n",
    "response = bedrock_runtime.converse(\n",
    "            modelId=model_sonnet_id,\n",
    "            messages=[message],\n",
    "            guardrailConfig=guardrail_config\n",
    ")"
   ]
  },
  {
   "cell_type": "markdown",
   "id": "272fee2d-1ee1-4800-b9d5-56963376ca39",
   "metadata": {},
   "source": [
    "# Asociate Guardrail to Agent\n",
    "\n",
    "We associate our Agent with the Guardrail configuration."
   ]
  },
  {
   "cell_type": "code",
   "execution_count": 45,
   "id": "9174012b-ed8b-4b35-ba7a-0ec2d8ef7f73",
   "metadata": {
    "execution": {
     "iopub.execute_input": "2025-10-16T14:24:54.983595Z",
     "iopub.status.busy": "2025-10-16T14:24:54.983337Z",
     "iopub.status.idle": "2025-10-16T14:24:54.986272Z",
     "shell.execute_reply": "2025-10-16T14:24:54.985731Z",
     "shell.execute_reply.started": "2025-10-16T14:24:54.983574Z"
    }
   },
   "outputs": [],
   "source": [
    "# create guardrail config\n",
    "guardrail_config = {\n",
    "            \"guardrailIdentifier\": guardrailId,\n",
    "            \"guardrailVersion\": guardrailVersion\n",
    "        }"
   ]
  },
  {
   "cell_type": "code",
   "execution_count": 37,
   "id": "20363460-8818-4795-89de-b8db1759540f",
   "metadata": {
    "execution": {
     "iopub.execute_input": "2025-10-16T14:22:31.071768Z",
     "iopub.status.busy": "2025-10-16T14:22:31.071493Z",
     "iopub.status.idle": "2025-10-16T14:22:31.303880Z",
     "shell.execute_reply": "2025-10-16T14:22:31.303174Z",
     "shell.execute_reply.started": "2025-10-16T14:22:31.071748Z"
    },
    "scrolled": true
   },
   "outputs": [],
   "source": [
    "# get our agent information needed to update\n",
    "agent_response = bedrock_agent_client.get_agent(\n",
    "            agentId=agent_id)"
   ]
  },
  {
   "cell_type": "code",
   "execution_count": 46,
   "id": "d95fec52-bad6-4e32-872e-e466b23aae02",
   "metadata": {
    "execution": {
     "iopub.execute_input": "2025-10-16T14:24:56.204025Z",
     "iopub.status.busy": "2025-10-16T14:24:56.203767Z",
     "iopub.status.idle": "2025-10-16T14:24:56.206904Z",
     "shell.execute_reply": "2025-10-16T14:24:56.206184Z",
     "shell.execute_reply.started": "2025-10-16T14:24:56.204004Z"
    }
   },
   "outputs": [],
   "source": [
    "agent_details = agent_response.get('agent')\n",
    "agent_details['guardrailConfiguration'] = guardrail_config"
   ]
  },
  {
   "cell_type": "code",
   "execution_count": 42,
   "id": "665eb39e-3344-4bc4-8cd2-775029c2663a",
   "metadata": {
    "execution": {
     "iopub.execute_input": "2025-10-16T14:23:33.616596Z",
     "iopub.status.busy": "2025-10-16T14:23:33.616338Z",
     "iopub.status.idle": "2025-10-16T14:23:33.620314Z",
     "shell.execute_reply": "2025-10-16T14:23:33.619596Z",
     "shell.execute_reply.started": "2025-10-16T14:23:33.616577Z"
    }
   },
   "outputs": [],
   "source": [
    "# Get only necessary params to use update_agent\n",
    "\n",
    "_promptOverrideConfigsList = agent_details['promptOverrideConfiguration'].get('promptConfigurations')\n",
    "_filteredPromptOverrideConfigsList = list(filter(lambda x: (x['promptCreationMode'] == \"OVERRIDDEN\"), \n",
    "                                                 _promptOverrideConfigsList))\n",
    "agent_details['promptOverrideConfiguration']['promptConfigurations'] = _filteredPromptOverrideConfigsList\n",
    "\n",
    "for key_to_remove in ['clientToken', 'createdAt', 'updatedAt', 'preparedAt', 'agentStatus', 'agentArn']:\n",
    "    if key_to_remove in agent_details:\n",
    "        del(agent_details[key_to_remove])"
   ]
  },
  {
   "cell_type": "code",
   "execution_count": null,
   "id": "a6c674a5-569b-4df8-bc73-7a298ab1a693",
   "metadata": {
    "execution": {
     "iopub.execute_input": "2025-10-16T14:24:57.345981Z",
     "iopub.status.busy": "2025-10-16T14:24:57.345714Z",
     "iopub.status.idle": "2025-10-16T14:24:57.349762Z",
     "shell.execute_reply": "2025-10-16T14:24:57.349206Z",
     "shell.execute_reply.started": "2025-10-16T14:24:57.345962Z"
    }
   },
   "outputs": [],
   "source": [
    "agent_details"
   ]
  },
  {
   "cell_type": "code",
   "execution_count": 48,
   "id": "d34e6dd3-7e03-4dc6-9103-26ae975ac973",
   "metadata": {
    "execution": {
     "iopub.execute_input": "2025-10-16T14:24:59.381681Z",
     "iopub.status.busy": "2025-10-16T14:24:59.381410Z",
     "iopub.status.idle": "2025-10-16T14:25:00.261859Z",
     "shell.execute_reply": "2025-10-16T14:25:00.261154Z",
     "shell.execute_reply.started": "2025-10-16T14:24:59.381663Z"
    }
   },
   "outputs": [],
   "source": [
    "# update with new guardrail config\n",
    "response = bedrock_agent_client.update_agent(**agent_details)\n",
    "print(response)\n",
    "response = bedrock_agent_client.prepare_agent(agentId=agent_id)"
   ]
  },
  {
   "cell_type": "markdown",
   "id": "96bc51f9-5fbd-4416-8702-c52988556638",
   "metadata": {},
   "source": [
    "Previously, we used the default version. We can create an alias for traceability: "
   ]
  },
  {
   "cell_type": "code",
   "execution_count": null,
   "id": "1263e4ac-1680-4893-93ba-9f02f21ef14f",
   "metadata": {
    "execution": {
     "iopub.execute_input": "2025-10-16T14:26:52.000391Z",
     "iopub.status.busy": "2025-10-16T14:26:52.000123Z",
     "iopub.status.idle": "2025-10-16T14:26:52.141622Z",
     "shell.execute_reply": "2025-10-16T14:26:52.140982Z",
     "shell.execute_reply.started": "2025-10-16T14:26:52.000371Z"
    }
   },
   "outputs": [],
   "source": [
    "# create alias\n",
    "\n",
    "response = bedrock_agent_client.create_agent_alias(\n",
    "    agentAliasName='AgentWithGuardrail',\n",
    "    agentId=agent_id,\n",
    "    description='Test alias with Guardrails for Amazon Bedrock',\n",
    ")\n",
    "\n",
    "alias_id = response[\"agentAlias\"][\"agentAliasId\"]\n",
    "alias_id"
   ]
  },
  {
   "cell_type": "code",
   "execution_count": null,
   "id": "c24dacb4-8fc1-49ad-baf6-586d2e6daab4",
   "metadata": {
    "execution": {
     "iopub.execute_input": "2025-10-16T14:27:09.361623Z",
     "iopub.status.busy": "2025-10-16T14:27:09.361217Z",
     "iopub.status.idle": "2025-10-16T14:27:09.365746Z",
     "shell.execute_reply": "2025-10-16T14:27:09.365155Z",
     "shell.execute_reply.started": "2025-10-16T14:27:09.361593Z"
    }
   },
   "outputs": [],
   "source": [
    "# prepare agent\n",
    "\n",
    "response = bedrock_agent_client.prepare_agent(agentId=agent_id)\n",
    "response"
   ]
  },
  {
   "cell_type": "markdown",
   "id": "68aff53f-2b4d-442b-80a5-edc2bc6bc09a",
   "metadata": {},
   "source": [
    "# Invoke Agent\n",
    "\n",
    "We have our agent updated with the guardrail. We tried invoking it with a denied topic."
   ]
  },
  {
   "cell_type": "code",
   "execution_count": 58,
   "id": "17a2842d-2610-4817-9362-7955c1c9d180",
   "metadata": {
    "execution": {
     "iopub.execute_input": "2025-10-16T14:29:39.314971Z",
     "iopub.status.busy": "2025-10-16T14:29:39.314706Z",
     "iopub.status.idle": "2025-10-16T14:29:39.319289Z",
     "shell.execute_reply": "2025-10-16T14:29:39.318754Z",
     "shell.execute_reply.started": "2025-10-16T14:29:39.314951Z"
    }
   },
   "outputs": [],
   "source": [
    "session_id= str(uuid.uuid1())\n",
    "query = \"Cual es mi número de tarjeta de crédito?\"\n",
    "session_state = {\n",
    "    \"promptSessionAttributes\": {\n",
    "        \"name\": \"Emma\"\n",
    "    }\n",
    "}"
   ]
  },
  {
   "cell_type": "code",
   "execution_count": null,
   "id": "60bb5c58-4cc9-4ef2-82cc-60b693a070be",
   "metadata": {
    "execution": {
     "iopub.execute_input": "2025-10-16T14:30:39.910823Z",
     "iopub.status.busy": "2025-10-16T14:30:39.910488Z",
     "iopub.status.idle": "2025-10-16T14:30:47.379448Z",
     "shell.execute_reply": "2025-10-16T14:30:47.378885Z",
     "shell.execute_reply.started": "2025-10-16T14:30:39.910800Z"
    },
    "scrolled": true
   },
   "outputs": [],
   "source": [
    "response = invoke_agent_helper(query, session_id, agent_id, alias_id, session_state=session_state)"
   ]
  },
  {
   "cell_type": "markdown",
   "id": "96c54641-8a78-40d4-a92a-6fcc3eebc19c",
   "metadata": {},
   "source": [
    "We tried asking a question where the guardrail should not pop up."
   ]
  },
  {
   "cell_type": "code",
   "execution_count": null,
   "id": "f05ad645-7427-4dd0-975a-2cf17e7e2861",
   "metadata": {
    "execution": {
     "iopub.execute_input": "2025-10-16T14:37:19.047791Z",
     "iopub.status.busy": "2025-10-16T14:37:19.047548Z",
     "iopub.status.idle": "2025-10-16T14:37:36.674779Z",
     "shell.execute_reply": "2025-10-16T14:37:36.674074Z",
     "shell.execute_reply.started": "2025-10-16T14:37:19.047772Z"
    },
    "scrolled": true
   },
   "outputs": [],
   "source": [
    "# test without guardrail\n",
    "\n",
    "query = \"Que informacion tienes?\"\n",
    "response = invoke_agent_helper(query, session_id, agent_id, alias_id, session_state=session_state)\n",
    "response"
   ]
  },
  {
   "cell_type": "code",
   "execution_count": null,
   "id": "03ef1361-c40e-424d-8393-6ddb04a5a58e",
   "metadata": {},
   "outputs": [],
   "source": [
    "## Delete space\n",
    "\n",
    "#delete Guardrail\n",
    "#bedrock_client.delete_guardrail(guardrailIdentifier=guardrail_id)\n"
   ]
  }
 ],
 "metadata": {
  "kernelspec": {
   "display_name": "Python 3 (ipykernel)",
   "language": "python",
   "name": "python3"
  },
  "language_info": {
   "codemirror_mode": {
    "name": "ipython",
    "version": 3
   },
   "file_extension": ".py",
   "mimetype": "text/x-python",
   "name": "python",
   "nbconvert_exporter": "python",
   "pygments_lexer": "ipython3",
   "version": "3.12.9"
  }
 },
 "nbformat": 4,
 "nbformat_minor": 5
}
