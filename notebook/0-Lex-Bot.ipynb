{
 "cells": [
  {
   "cell_type": "markdown",
   "id": "925cfe97-7f26-49a9-a13c-5c0c6cf13266",
   "metadata": {},
   "source": [
    "# Lex\n",
    "\n",
    "In this notebook, we will learn how to create a deterministic bot using Amazon Lex, the AWS service for conversational bots based on predefined rules and flows.\n",
    "\n",
    "A deterministic bot follows structured conversation flows, defined by intents, slots, and utterances, unlike generative models that produce open-ended responses. This makes it ideal for cases where responses must be precise and predictable.\n",
    "\n",
    "Notebook contents\n",
    "\n",
    "- Initialising the AWS Lex client using boto3.\n",
    "\n",
    "- Creating a bot and configuring intents.\n",
    "\n",
    "- Defining utterances and slots.\n",
    "\n",
    "- Testing interaction with the bot"
   ]
  },
  {
   "cell_type": "code",
   "execution_count": 9,
   "id": "fd822344-e9b4-465e-b28d-3cbbf86b39cf",
   "metadata": {
    "execution": {
     "iopub.execute_input": "2025-10-16T16:04:54.534823Z",
     "iopub.status.busy": "2025-10-16T16:04:54.534433Z",
     "iopub.status.idle": "2025-10-16T16:04:54.546455Z",
     "shell.execute_reply": "2025-10-16T16:04:54.545597Z",
     "shell.execute_reply.started": "2025-10-16T16:04:54.534797Z"
    }
   },
   "outputs": [],
   "source": [
    "import boto3\n",
    "import json\n",
    "import time\n",
    "\n",
    "lexv2 = boto3.client('lexv2-models', region_name='eu-west-1')\n",
    "lex_runtime = boto3.client('lexv2-runtime', region_name='eu-west-1')"
   ]
  },
  {
   "cell_type": "code",
   "execution_count": 10,
   "id": "e9e2ee56-38bb-4ce6-82eb-79f22efa5c3e",
   "metadata": {
    "execution": {
     "iopub.execute_input": "2025-10-16T16:04:56.736203Z",
     "iopub.status.busy": "2025-10-16T16:04:56.735919Z",
     "iopub.status.idle": "2025-10-16T16:04:56.739179Z",
     "shell.execute_reply": "2025-10-16T16:04:56.738426Z",
     "shell.execute_reply.started": "2025-10-16T16:04:56.736165Z"
    }
   },
   "outputs": [],
   "source": [
    "# utilizamos el mismo role creado anteriormente para agentes, ya que le dimos full_access\n",
    "role_arn = \"arn:aws:iam::XXXXXXXXX:role/AmazonBedrockExecutionRoleForAgents_notifier-agent\""
   ]
  },
  {
   "cell_type": "markdown",
   "id": "261152cd-a32d-4446-9555-291445db4cb9",
   "metadata": {},
   "source": [
    "# Define Bot"
   ]
  },
  {
   "cell_type": "code",
   "execution_count": 11,
   "id": "f448d6fb-e84b-4a53-854a-b0d75e6edf7e",
   "metadata": {
    "execution": {
     "iopub.execute_input": "2025-10-16T16:04:59.624447Z",
     "iopub.status.busy": "2025-10-16T16:04:59.624159Z",
     "iopub.status.idle": "2025-10-16T16:04:59.627362Z",
     "shell.execute_reply": "2025-10-16T16:04:59.626738Z",
     "shell.execute_reply.started": "2025-10-16T16:04:59.624405Z"
    }
   },
   "outputs": [],
   "source": [
    "bot_name = \"DemoBot\""
   ]
  },
  {
   "cell_type": "code",
   "execution_count": null,
   "id": "8986d752-d9f7-4204-aff5-aa05cc31c12c",
   "metadata": {
    "execution": {
     "iopub.execute_input": "2025-10-16T16:04:59.910743Z",
     "iopub.status.busy": "2025-10-16T16:04:59.910362Z",
     "iopub.status.idle": "2025-10-16T16:05:00.163267Z",
     "shell.execute_reply": "2025-10-16T16:05:00.162246Z",
     "shell.execute_reply.started": "2025-10-16T16:04:59.910621Z"
    }
   },
   "outputs": [],
   "source": [
    "response = lexv2.create_bot(\n",
    "    botName=bot_name,\n",
    "    description=\"Bot creado desde un notebook de SageMaker\",\n",
    "    roleArn=role_arn, \n",
    "    dataPrivacy={'childDirected': False},\n",
    "    idleSessionTTLInSeconds=300\n",
    ")\n",
    "\n",
    "bot_id = response['botId']\n",
    "print(\"Bot creado con ID:\", bot_id)"
   ]
  },
  {
   "cell_type": "markdown",
   "id": "e5609989-5607-423e-a12f-1a39bd82d43d",
   "metadata": {},
   "source": [
    "# Personalizar Bot"
   ]
  },
  {
   "cell_type": "code",
   "execution_count": 13,
   "id": "5559e159-fad5-46a3-900b-5372d15e66c2",
   "metadata": {
    "execution": {
     "iopub.execute_input": "2025-10-16T16:09:20.876845Z",
     "iopub.status.busy": "2025-10-16T16:09:20.876483Z",
     "iopub.status.idle": "2025-10-16T16:09:21.080117Z",
     "shell.execute_reply": "2025-10-16T16:09:21.079529Z",
     "shell.execute_reply.started": "2025-10-16T16:09:20.876813Z"
    }
   },
   "outputs": [
    {
     "data": {
      "text/plain": [
       "'es_ES'"
      ]
     },
     "execution_count": 13,
     "metadata": {},
     "output_type": "execute_result"
    }
   ],
   "source": [
    "response = lexv2.create_bot_locale(\n",
    "    botId=bot_id,\n",
    "    botVersion=\"DRAFT\",\n",
    "    localeId=\"es_ES\",\n",
    "    nluIntentConfidenceThreshold=0.4,\n",
    "    voiceSettings={'voiceId': 'Lucia'}  # voz opcional\n",
    ")\n",
    "\n",
    "locale_id = response['localeId']\n",
    "locale_id"
   ]
  },
  {
   "cell_type": "markdown",
   "id": "232870bf-81be-4692-b3bf-13a7f5fc0204",
   "metadata": {
    "execution": {
     "iopub.execute_input": "2025-10-16T16:02:04.618070Z",
     "iopub.status.busy": "2025-10-16T16:02:04.617808Z",
     "iopub.status.idle": "2025-10-16T16:02:04.622371Z",
     "shell.execute_reply": "2025-10-16T16:02:04.621502Z",
     "shell.execute_reply.started": "2025-10-16T16:02:04.618049Z"
    },
    "jp-MarkdownHeadingCollapsed": true
   },
   "source": [
    "# Intent\n",
    "\n",
    "Lex bots can identify what the user wants through *intent*."
   ]
  },
  {
   "cell_type": "code",
   "execution_count": null,
   "id": "eaaa0466-b1a7-42e9-aa6a-fa20aa72a862",
   "metadata": {
    "execution": {
     "iopub.execute_input": "2025-10-16T16:11:33.532162Z",
     "iopub.status.busy": "2025-10-16T16:11:33.531902Z",
     "iopub.status.idle": "2025-10-16T16:11:33.811009Z",
     "shell.execute_reply": "2025-10-16T16:11:33.810325Z",
     "shell.execute_reply.started": "2025-10-16T16:11:33.532141Z"
    }
   },
   "outputs": [],
   "source": [
    "intent_name = \"ReservarMesaIntent\"\n",
    "\n",
    "intent_response = lexv2.create_intent(\n",
    "    botId=bot_id,\n",
    "    botVersion=\"DRAFT\",\n",
    "    localeId=locale_id,\n",
    "    intentName=intent_name,\n",
    "    sampleUtterances=[\n",
    "      {\"utterance\":\"Quiero reservar una mesa\"},\n",
    "      {\"utterance\":\"Hacer una reserva\"}\n",
    "    ],\n",
    "    intentClosingSetting={\n",
    "        \"closingResponse\":{\n",
    "            \"messageGroups\":[{\n",
    "                \"message\":{\"plainTextMessage\":{\"value\":\"¡Reserva confirmada!\"}}\n",
    "            }]\n",
    "        }\n",
    "    }\n",
    ")\n",
    "\n",
    "intent_id = intent_response['intentId']\n",
    "intent_id"
   ]
  },
  {
   "cell_type": "markdown",
   "id": "143db06e-f60b-4ff1-93bf-fd2f5b2e002d",
   "metadata": {},
   "source": [
    "# Build Bot"
   ]
  },
  {
   "cell_type": "code",
   "execution_count": null,
   "id": "f8fa65cd-bb54-4868-98c9-4d4eefd9d22e",
   "metadata": {
    "execution": {
     "iopub.execute_input": "2025-10-16T16:11:58.131439Z",
     "iopub.status.busy": "2025-10-16T16:11:58.131133Z",
     "iopub.status.idle": "2025-10-16T16:11:58.286688Z",
     "shell.execute_reply": "2025-10-16T16:11:58.285924Z",
     "shell.execute_reply.started": "2025-10-16T16:11:58.131381Z"
    }
   },
   "outputs": [],
   "source": [
    "build = lexv2.build_bot_locale(\n",
    "    botId=bot_id,\n",
    "    botVersion=\"DRAFT\",\n",
    "    localeId=locale_id\n",
    ")\n",
    "\n",
    "build"
   ]
  },
  {
   "cell_type": "code",
   "execution_count": null,
   "id": "97dffdd0-ed03-4cd9-ba1b-4398c1c4dd46",
   "metadata": {
    "execution": {
     "iopub.execute_input": "2025-10-16T16:26:53.539943Z",
     "iopub.status.busy": "2025-10-16T16:26:53.539677Z",
     "iopub.status.idle": "2025-10-16T16:26:53.669711Z",
     "shell.execute_reply": "2025-10-16T16:26:53.668987Z",
     "shell.execute_reply.started": "2025-10-16T16:26:53.539922Z"
    }
   },
   "outputs": [],
   "source": [
    "check = lexv2.describe_bot_locale(\n",
    "        botId=bot_id, botVersion=\"DRAFT\", localeId=locale_id\n",
    "    )\n",
    "check['botLocaleStatus']"
   ]
  },
  {
   "cell_type": "markdown",
   "id": "64928eb0-1cb0-45a9-9fe5-35af5aa158ba",
   "metadata": {
    "jp-MarkdownHeadingCollapsed": true
   },
   "source": [
    "# Test"
   ]
  },
  {
   "cell_type": "code",
   "execution_count": null,
   "id": "e19e632b-f8d6-4f73-9b88-0c3b1c17d6be",
   "metadata": {
    "execution": {
     "iopub.execute_input": "2025-10-16T16:13:34.564210Z",
     "iopub.status.busy": "2025-10-16T16:13:34.563955Z",
     "iopub.status.idle": "2025-10-16T16:13:34.927125Z",
     "shell.execute_reply": "2025-10-16T16:13:34.926406Z",
     "shell.execute_reply.started": "2025-10-16T16:13:34.564191Z"
    }
   },
   "outputs": [],
   "source": [
    "response = lex_runtime.recognize_text(\n",
    "    botId=bot_id,\n",
    "    botAliasId='TSTALIASID',  # funciona con cualquiera\n",
    "    localeId='es_ES',\n",
    "    sessionId='test123',\n",
    "    text='Quiero reservar una mesa'\n",
    ")\n",
    "\n",
    "response"
   ]
  },
  {
   "cell_type": "markdown",
   "id": "72749c96-af53-414d-b088-dcb370359d18",
   "metadata": {
    "jp-MarkdownHeadingCollapsed": true
   },
   "source": [
    "# Añadimos más intents"
   ]
  },
  {
   "cell_type": "code",
   "execution_count": 22,
   "id": "20aa4f51-e416-42c9-9546-0d1c9065b52c",
   "metadata": {
    "execution": {
     "iopub.execute_input": "2025-10-16T16:15:24.793080Z",
     "iopub.status.busy": "2025-10-16T16:15:24.792814Z",
     "iopub.status.idle": "2025-10-16T16:15:25.023927Z",
     "shell.execute_reply": "2025-10-16T16:15:25.023200Z",
     "shell.execute_reply.started": "2025-10-16T16:15:24.793061Z"
    }
   },
   "outputs": [],
   "source": [
    "intent_cancel = lexv2.create_intent(\n",
    "    botId=bot_id,\n",
    "    botVersion=\"DRAFT\",\n",
    "    localeId=locale_id,\n",
    "    intentName=\"CancelarReservaIntent\",\n",
    "    sampleUtterances=[\n",
    "        {\"utterance\": \"Quiero cancelar mi reserva\"},\n",
    "        {\"utterance\": \"Cancelar reserva\"}\n",
    "    ],\n",
    "    intentClosingSetting={\n",
    "        \"closingResponse\":{\n",
    "            \"messageGroups\":[{\n",
    "                \"message\":{\"plainTextMessage\":{\"value\":\"Tu reserva ha sido cancelada.\"}}\n",
    "            }]\n",
    "        }\n",
    "    }\n",
    ")\n",
    "intent_cancel_id = intent_cancel['intentId']"
   ]
  },
  {
   "cell_type": "code",
   "execution_count": null,
   "id": "4f38fb5e-3cbd-4fbf-83c5-597e11ef5606",
   "metadata": {
    "execution": {
     "iopub.execute_input": "2025-10-16T16:17:26.657765Z",
     "iopub.status.busy": "2025-10-16T16:17:26.657502Z",
     "iopub.status.idle": "2025-10-16T16:17:26.661597Z",
     "shell.execute_reply": "2025-10-16T16:17:26.660939Z",
     "shell.execute_reply.started": "2025-10-16T16:17:26.657746Z"
    }
   },
   "outputs": [],
   "source": [
    "intent_cancel_id"
   ]
  },
  {
   "cell_type": "code",
   "execution_count": null,
   "id": "bfea00e7-9a11-4bf8-97e0-66c090c512e1",
   "metadata": {
    "execution": {
     "iopub.execute_input": "2025-10-16T16:17:54.405178Z",
     "iopub.status.busy": "2025-10-16T16:17:54.404916Z",
     "iopub.status.idle": "2025-10-16T16:17:54.646669Z",
     "shell.execute_reply": "2025-10-16T16:17:54.646019Z",
     "shell.execute_reply.started": "2025-10-16T16:17:54.405159Z"
    }
   },
   "outputs": [],
   "source": [
    "# actualizamos bot\n",
    "lexv2.build_bot_locale(botId=bot_id, botVersion=\"DRAFT\", localeId=locale_id)\n"
   ]
  },
  {
   "cell_type": "code",
   "execution_count": null,
   "id": "49943417-2b82-410a-b53d-19d6ccf650d7",
   "metadata": {
    "execution": {
     "iopub.execute_input": "2025-10-16T16:20:01.540040Z",
     "iopub.status.busy": "2025-10-16T16:20:01.539774Z",
     "iopub.status.idle": "2025-10-16T16:20:01.915594Z",
     "shell.execute_reply": "2025-10-16T16:20:01.914811Z",
     "shell.execute_reply.started": "2025-10-16T16:20:01.540019Z"
    }
   },
   "outputs": [],
   "source": [
    "response = lex_runtime.recognize_text(\n",
    "    botId=bot_id,\n",
    "    botAliasId='TSTALIASID',  # funciona con cualquiera\n",
    "    localeId='es_ES',\n",
    "    sessionId='test123',\n",
    "    text='Quiero cancelar mi reserva'\n",
    ")\n",
    "\n",
    "response"
   ]
  },
  {
   "cell_type": "markdown",
   "id": "0d099532-cb70-4d35-8190-1fa622d1f43c",
   "metadata": {},
   "source": [
    "# Information validation\n",
    "\n",
    "You may also request information before assigning it..."
   ]
  },
  {
   "cell_type": "code",
   "execution_count": 34,
   "id": "372d2439-9fc7-4da3-9ae1-35af049fb1a7",
   "metadata": {
    "execution": {
     "iopub.execute_input": "2025-10-16T16:24:17.115707Z",
     "iopub.status.busy": "2025-10-16T16:24:17.115268Z",
     "iopub.status.idle": "2025-10-16T16:24:17.534063Z",
     "shell.execute_reply": "2025-10-16T16:24:17.533309Z",
     "shell.execute_reply.started": "2025-10-16T16:24:17.115676Z"
    }
   },
   "outputs": [],
   "source": [
    "# Slot: fecha\n",
    "slot_fecha = lexv2.create_slot(\n",
    "    botId=bot_id,\n",
    "    botVersion=\"DRAFT\",\n",
    "    localeId=locale_id,\n",
    "    intentId=intent_id,\n",
    "    slotName=\"fecha\",\n",
    "    slotTypeId=\"AMAZON.Date\",\n",
    "    valueElicitationSetting={\n",
    "        \"slotConstraint\": \"Required\",\n",
    "        \"promptSpecification\":{\n",
    "            \"messageGroups\":[{\"message\":{\"plainTextMessage\":{\"value\":\"¿Para qué fecha quieres la reserva?\"}}}],\n",
    "            \"maxRetries\":2\n",
    "        }\n",
    "    }\n",
    ")\n",
    "fecha_id = slot_fecha['slotId']\n",
    "\n",
    "# Slot: hora\n",
    "slot_hora = lexv2.create_slot(\n",
    "    botId=bot_id,\n",
    "    botVersion=\"DRAFT\",\n",
    "    localeId=locale_id,\n",
    "    intentId=intent_id,\n",
    "    slotName=\"hora\",\n",
    "    slotTypeId=\"AMAZON.Time\",\n",
    "    valueElicitationSetting={\n",
    "        \"slotConstraint\": \"Required\",\n",
    "        \"promptSpecification\":{\n",
    "            \"messageGroups\":[{\"message\":{\"plainTextMessage\":{\"value\":\"¿A qué hora?\"}}}],\n",
    "            \"maxRetries\":2\n",
    "        }\n",
    "    }\n",
    ")\n",
    "hora_id = slot_hora['slotId']\n"
   ]
  },
  {
   "cell_type": "code",
   "execution_count": null,
   "id": "204425e0-b435-4f3d-b19f-e0cb2e149b34",
   "metadata": {
    "execution": {
     "iopub.execute_input": "2025-10-16T16:24:45.946819Z",
     "iopub.status.busy": "2025-10-16T16:24:45.946396Z",
     "iopub.status.idle": "2025-10-16T16:24:46.190175Z",
     "shell.execute_reply": "2025-10-16T16:24:46.189437Z",
     "shell.execute_reply.started": "2025-10-16T16:24:45.946786Z"
    }
   },
   "outputs": [],
   "source": [
    "lexv2.update_intent(\n",
    "    botId=bot_id,\n",
    "    botVersion=\"DRAFT\",\n",
    "    intentName=intent_name,\n",
    "    localeId=locale_id,\n",
    "    intentId=intent_id,\n",
    "    slotPriorities=[\n",
    "        {\"priority\":1, \"slotId\": fecha_id},\n",
    "        {\"priority\":2, \"slotId\": hora_id}\n",
    "    ]\n",
    ")\n"
   ]
  },
  {
   "cell_type": "code",
   "execution_count": null,
   "id": "b891cdbd-2aaf-44a5-9389-250ce3dc5b90",
   "metadata": {
    "execution": {
     "iopub.execute_input": "2025-10-16T16:25:26.462568Z",
     "iopub.status.busy": "2025-10-16T16:25:26.462275Z",
     "iopub.status.idle": "2025-10-16T16:25:26.703576Z",
     "shell.execute_reply": "2025-10-16T16:25:26.702926Z",
     "shell.execute_reply.started": "2025-10-16T16:25:26.462546Z"
    }
   },
   "outputs": [],
   "source": [
    "# actualizamos bot\n",
    "lexv2.build_bot_locale(botId=bot_id, botVersion=\"DRAFT\", localeId=locale_id)\n"
   ]
  },
  {
   "cell_type": "markdown",
   "id": "befce93f-29c0-4764-bb2d-2c617901bcbd",
   "metadata": {},
   "source": [
    "## Test"
   ]
  },
  {
   "cell_type": "code",
   "execution_count": null,
   "id": "5551ddb8-c9e3-4195-b87f-bcb4643e523b",
   "metadata": {
    "execution": {
     "iopub.execute_input": "2025-10-16T16:31:21.269363Z",
     "iopub.status.busy": "2025-10-16T16:31:21.269098Z",
     "iopub.status.idle": "2025-10-16T16:31:21.597300Z",
     "shell.execute_reply": "2025-10-16T16:31:21.596678Z",
     "shell.execute_reply.started": "2025-10-16T16:31:21.269342Z"
    }
   },
   "outputs": [],
   "source": [
    "response = lex_runtime.recognize_text(\n",
    "    botId=bot_id,\n",
    "    botAliasId='TSTALIASID',  # funciona con cualquiera\n",
    "    localeId='es_ES',\n",
    "    sessionId='test12',\n",
    "    text='Quiero reservar una mesa para 3 personas'\n",
    ")\n",
    "\n",
    "response"
   ]
  },
  {
   "cell_type": "code",
   "execution_count": null,
   "id": "6b9edb4a-ef4a-433e-ad1a-93dc02cf9a65",
   "metadata": {
    "execution": {
     "iopub.execute_input": "2025-10-16T16:31:26.236062Z",
     "iopub.status.busy": "2025-10-16T16:31:26.235798Z",
     "iopub.status.idle": "2025-10-16T16:31:26.239737Z",
     "shell.execute_reply": "2025-10-16T16:31:26.239200Z",
     "shell.execute_reply.started": "2025-10-16T16:31:26.236043Z"
    }
   },
   "outputs": [],
   "source": [
    "response['sessionState']"
   ]
  },
  {
   "cell_type": "markdown",
   "id": "c729fc7d-1ac2-4802-8f5b-149de24add7c",
   "metadata": {},
   "source": [
    "# Bot de voz\n"
   ]
  },
  {
   "cell_type": "code",
   "execution_count": null,
   "id": "11ec5165-b7ad-4a85-9c3b-c1f36f5a3528",
   "metadata": {
    "execution": {
     "iopub.execute_input": "2025-10-16T16:28:30.902574Z",
     "iopub.status.busy": "2025-10-16T16:28:30.902316Z",
     "iopub.status.idle": "2025-10-16T16:28:31.429706Z",
     "shell.execute_reply": "2025-10-16T16:28:31.428735Z",
     "shell.execute_reply.started": "2025-10-16T16:28:30.902554Z"
    },
    "scrolled": true
   },
   "outputs": [],
   "source": [
    "# Voice: use RecognizeUtterance API\n",
    "\n",
    "with open(\"respuesta_voz.wav\", \"wb\") as audio_file:\n",
    "    response = lex_runtime.recognize_utterance(\n",
    "        botId=bot_id,\n",
    "        botAliasId='TSTALIASID',\n",
    "        localeId='es_ES',\n",
    "        sessionId='voz123',\n",
    "        requestContentType='text/plain; charset=utf-8',\n",
    "        responseContentType='audio/mpeg',\n",
    "        inputStream=b\"Hola, quiero cancelar una reserva\"\n",
    "    )\n",
    "    audio_file.write(response['audioStream'].read())\n"
   ]
  },
  {
   "cell_type": "code",
   "execution_count": null,
   "id": "0588df36-3c29-422a-8f61-f041b5a022f7",
   "metadata": {},
   "outputs": [],
   "source": []
  },
  {
   "cell_type": "code",
   "execution_count": null,
   "id": "9aae93f3-4c93-444b-80b0-79a731cf296b",
   "metadata": {},
   "outputs": [],
   "source": []
  },
  {
   "cell_type": "code",
   "execution_count": null,
   "id": "5d0db289-e96a-4241-b5d9-403136eb6c25",
   "metadata": {
    "execution": {
     "iopub.execute_input": "2025-10-16T16:31:50.926916Z",
     "iopub.status.busy": "2025-10-16T16:31:50.926585Z",
     "iopub.status.idle": "2025-10-16T16:31:51.099516Z",
     "shell.execute_reply": "2025-10-16T16:31:51.098882Z",
     "shell.execute_reply.started": "2025-10-16T16:31:50.926895Z"
    }
   },
   "outputs": [],
   "source": [
    "# delete\n",
    "\n",
    "#lexv2.delete_bot(botId=bot_id, skipResourceInUseCheck=True)"
   ]
  },
  {
   "cell_type": "code",
   "execution_count": null,
   "id": "9927cea3-8303-40bc-8c32-d250a9d24e7e",
   "metadata": {},
   "outputs": [],
   "source": []
  }
 ],
 "metadata": {
  "kernelspec": {
   "display_name": "Python 3 (ipykernel)",
   "language": "python",
   "name": "python3"
  },
  "language_info": {
   "codemirror_mode": {
    "name": "ipython",
    "version": 3
   },
   "file_extension": ".py",
   "mimetype": "text/x-python",
   "name": "python",
   "nbconvert_exporter": "python",
   "pygments_lexer": "ipython3",
   "version": "3.12.9"
  }
 },
 "nbformat": 4,
 "nbformat_minor": 5
}
