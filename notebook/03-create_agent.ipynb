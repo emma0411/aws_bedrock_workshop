{
 "cells": [
  {
   "cell_type": "markdown",
   "id": "85d8be22-a465-4e6e-81c3-05172fa31219",
   "metadata": {},
   "source": [
    "# Agents\n",
    "\n",
    "In this notebook, we will learn how to create and configure Agents using the Amazon Bedrock API.\n",
    "\n",
    "An Agent is an instance that combines a language model with automated actions, business rules, and, optionally, integration with Knowledge Bases (KB) or Flows, allowing you to build smarter and more dynamic conversational experiences.\n",
    "\n",
    "Notebook contents:\n",
    "\n",
    "- Initialising the Bedrock client and configuring the environment.\n",
    "\n",
    "- Creating an Agent and defining aliases.\n",
    "\n",
    "- Testing basic interaction with the Agent."
   ]
  },
  {
   "cell_type": "code",
   "execution_count": 10,
   "id": "448818da-f6e5-4618-8523-68a2015ae540",
   "metadata": {
    "execution": {
     "iopub.execute_input": "2025-10-16T11:12:58.499872Z",
     "iopub.status.busy": "2025-10-16T11:12:58.499600Z",
     "iopub.status.idle": "2025-10-16T11:12:58.503300Z",
     "shell.execute_reply": "2025-10-16T11:12:58.502431Z",
     "shell.execute_reply.started": "2025-10-16T11:12:58.499849Z"
    }
   },
   "outputs": [],
   "source": [
    "import time\n",
    "import boto3\n",
    "import logging\n",
    "import uuid\n",
    "import json\n",
    "\n",
    "from utils import invoke_agent_helper"
   ]
  },
  {
   "cell_type": "code",
   "execution_count": 9,
   "id": "e00ee12c-a080-4c40-994b-b9090347cbe6",
   "metadata": {
    "execution": {
     "iopub.execute_input": "2025-10-16T11:12:54.806897Z",
     "iopub.status.busy": "2025-10-16T11:12:54.806624Z",
     "iopub.status.idle": "2025-10-16T11:12:54.856512Z",
     "shell.execute_reply": "2025-10-16T11:12:54.855871Z",
     "shell.execute_reply.started": "2025-10-16T11:12:54.806875Z"
    }
   },
   "outputs": [],
   "source": [
    "iam_client = boto3.client('iam')\n",
    "sts_client = boto3.client('sts')\n",
    "session = boto3.session.Session()\n",
    "region = session.region_name\n",
    "\n",
    "account_id = sts_client.get_caller_identity()[\"Account\"]\n",
    "bedrock_agent_client = boto3.client('bedrock-agent')\n",
    "bedrock_agent_runtime_client = boto3.client('bedrock-agent-runtime')"
   ]
  },
  {
   "cell_type": "code",
   "execution_count": 18,
   "id": "8af39612-db45-41c0-97e1-950f68cdf0a6",
   "metadata": {
    "execution": {
     "iopub.execute_input": "2025-10-16T11:20:05.463446Z",
     "iopub.status.busy": "2025-10-16T11:20:05.463190Z",
     "iopub.status.idle": "2025-10-16T11:20:05.466164Z",
     "shell.execute_reply": "2025-10-16T11:20:05.465496Z",
     "shell.execute_reply.started": "2025-10-16T11:20:05.463427Z"
    }
   },
   "outputs": [],
   "source": [
    "lambda_function_arn = \"arn:aws:lambda:xx-xxxxx-s:XXXXXXXX:function:lambda-sns\"\n",
    "lambda_function_name = lambda_function_arn.split(':')[-1]\n",
    "\n",
    "model_sonnet_id = \"eu.anthropic.claude-3-7-sonnet-20250219-v1:0\""
   ]
  },
  {
   "cell_type": "markdown",
   "id": "47f42069-cb58-4710-95d5-9f41434709b3",
   "metadata": {},
   "source": [
    "# Create Agent"
   ]
  },
  {
   "cell_type": "code",
   "execution_count": 2,
   "id": "9611d6df-78eb-414e-8374-44186cda7659",
   "metadata": {
    "execution": {
     "iopub.execute_input": "2025-10-16T10:54:47.320433Z",
     "iopub.status.busy": "2025-10-16T10:54:47.320093Z",
     "iopub.status.idle": "2025-10-16T10:54:47.324062Z",
     "shell.execute_reply": "2025-10-16T10:54:47.323338Z",
     "shell.execute_reply.started": "2025-10-16T10:54:47.320411Z"
    }
   },
   "outputs": [],
   "source": [
    "# define agent params\n",
    "agent_name = 'notifier-agent'\n",
    "\n",
    "agent_description = \"Agent to test\"\n",
    "agent_instruction = \"You are a notifier agent, helping clients to notifier information\"\n",
    "agent_action_group_description = \"Actions for send sns notifier\"\n",
    "\n",
    "agent_action_group_name = \"SNSNotifier\""
   ]
  },
  {
   "cell_type": "markdown",
   "id": "72367ec5-5c46-4e00-899e-97561df22385",
   "metadata": {},
   "source": [
    "First, we must create a role and add the necessary policies."
   ]
  },
  {
   "cell_type": "code",
   "execution_count": 11,
   "id": "8d27edc5-6ff4-4ee8-9417-758aac4dfc46",
   "metadata": {
    "execution": {
     "iopub.execute_input": "2025-10-16T11:13:49.337473Z",
     "iopub.status.busy": "2025-10-16T11:13:49.337210Z",
     "iopub.status.idle": "2025-10-16T11:14:00.208655Z",
     "shell.execute_reply": "2025-10-16T11:14:00.207771Z",
     "shell.execute_reply.started": "2025-10-16T11:13:49.337452Z"
    }
   },
   "outputs": [],
   "source": [
    "# create agent role\n",
    "agent_role = \"arn:aws:iam::XXXXXXXXXX:role/AmazonBedrockExecutionRoleForAgents_notifier-agent\""
   ]
  },
  {
   "cell_type": "markdown",
   "id": "3a84da72-ede9-4f9c-93f5-a96985ec9f19",
   "metadata": {},
   "source": [
    "Once the role has been created, we can now create the agent."
   ]
  },
  {
   "cell_type": "code",
   "execution_count": null,
   "id": "34c4726e-0f75-43c8-b7f2-6b1d95b4b0c0",
   "metadata": {
    "execution": {
     "iopub.execute_input": "2025-10-16T11:14:41.184106Z",
     "iopub.status.busy": "2025-10-16T11:14:41.183842Z",
     "iopub.status.idle": "2025-10-16T11:14:41.647825Z",
     "shell.execute_reply": "2025-10-16T11:14:41.647149Z",
     "shell.execute_reply.started": "2025-10-16T11:14:41.184082Z"
    }
   },
   "outputs": [],
   "source": [
    "response = bedrock_agent_client.create_agent(\n",
    "    agentName=agent_name,\n",
    "    agentResourceRoleArn=agent_role,\n",
    "    description=agent_description,\n",
    "    idleSessionTTLInSeconds=1800,\n",
    "    foundationModel=model_sonnet_id,\n",
    "    instruction=agent_instruction,\n",
    ")\n",
    "response"
   ]
  },
  {
   "cell_type": "markdown",
   "id": "0ee42edf-f39d-4ea2-8dc1-f8772a9e4f62",
   "metadata": {
    "execution": {
     "iopub.execute_input": "2025-10-16T11:15:16.571811Z",
     "iopub.status.busy": "2025-10-16T11:15:16.571458Z",
     "iopub.status.idle": "2025-10-16T11:15:16.577149Z",
     "shell.execute_reply": "2025-10-16T11:15:16.575770Z",
     "shell.execute_reply.started": "2025-10-16T11:15:16.571780Z"
    }
   },
   "source": [
    "Just like kb, we have an agent identifier. With this identifier, we can associate the agent with the action, kb, etc."
   ]
  },
  {
   "cell_type": "code",
   "execution_count": null,
   "id": "b946a714-4899-4311-9367-721087d69808",
   "metadata": {
    "execution": {
     "iopub.execute_input": "2025-10-16T11:15:21.086546Z",
     "iopub.status.busy": "2025-10-16T11:15:21.086197Z",
     "iopub.status.idle": "2025-10-16T11:15:21.090092Z",
     "shell.execute_reply": "2025-10-16T11:15:21.089645Z",
     "shell.execute_reply.started": "2025-10-16T11:15:21.086523Z"
    }
   },
   "outputs": [],
   "source": [
    "agent_id = response['agent']['agentId']\n",
    "agent_id"
   ]
  },
  {
   "cell_type": "markdown",
   "id": "de6a6cd3-c8a8-4482-9c37-4b0a92820a6e",
   "metadata": {},
   "source": [
    "## Agent Action Group"
   ]
  },
  {
   "cell_type": "code",
   "execution_count": 17,
   "id": "0da56a42-e02f-4308-bb67-19ad69c14ede",
   "metadata": {
    "execution": {
     "iopub.execute_input": "2025-10-16T11:18:44.570377Z",
     "iopub.status.busy": "2025-10-16T11:18:44.570059Z",
     "iopub.status.idle": "2025-10-16T11:18:44.573539Z",
     "shell.execute_reply": "2025-10-16T11:18:44.572878Z",
     "shell.execute_reply.started": "2025-10-16T11:18:44.570346Z"
    }
   },
   "outputs": [],
   "source": [
    "# define agent functions\n",
    "agent_functions = [\n",
    "    {\n",
    "        'name': 'notifier_sns',\n",
    "        'description': 'Send an email to user',\n",
    "        'parameters': {\n",
    "            \"message_id\": {\n",
    "                \"description\": \"The message title\",\n",
    "                \"required\": True,\n",
    "                \"type\": \"string\"\n",
    "            }\n",
    "        }\n",
    "    }]"
   ]
  },
  {
   "cell_type": "code",
   "execution_count": 19,
   "id": "713efa93-c9cb-4dce-8879-8c49ce72a3ac",
   "metadata": {
    "execution": {
     "iopub.execute_input": "2025-10-16T11:20:21.049652Z",
     "iopub.status.busy": "2025-10-16T11:20:21.049372Z",
     "iopub.status.idle": "2025-10-16T11:20:21.274582Z",
     "shell.execute_reply": "2025-10-16T11:20:21.273909Z",
     "shell.execute_reply.started": "2025-10-16T11:20:21.049628Z"
    }
   },
   "outputs": [],
   "source": [
    "# configure and create an action group\n",
    "agent_action_group_response = bedrock_agent_client.create_agent_action_group(\n",
    "    agentId=agent_id,\n",
    "    agentVersion='DRAFT',\n",
    "    actionGroupExecutor={\n",
    "        'lambda': lambda_function_arn\n",
    "    },\n",
    "    actionGroupName=agent_action_group_name,\n",
    "    functionSchema={\n",
    "        'functions': agent_functions\n",
    "    },\n",
    "    description=agent_action_group_description\n",
    ")"
   ]
  },
  {
   "cell_type": "code",
   "execution_count": null,
   "id": "a5bf84a0-f08f-4e65-ba31-18f70698e47a",
   "metadata": {
    "execution": {
     "iopub.execute_input": "2025-10-16T11:20:27.496185Z",
     "iopub.status.busy": "2025-10-16T11:20:27.495864Z",
     "iopub.status.idle": "2025-10-16T11:20:27.501337Z",
     "shell.execute_reply": "2025-10-16T11:20:27.500604Z",
     "shell.execute_reply.started": "2025-10-16T11:20:27.496159Z"
    }
   },
   "outputs": [],
   "source": [
    "agent_action_group_response"
   ]
  },
  {
   "cell_type": "code",
   "execution_count": 21,
   "id": "1300da39-ff0b-4417-9ac8-a43195a2bd45",
   "metadata": {
    "execution": {
     "iopub.execute_input": "2025-10-16T11:21:43.659241Z",
     "iopub.status.busy": "2025-10-16T11:21:43.658930Z",
     "iopub.status.idle": "2025-10-16T11:21:43.789496Z",
     "shell.execute_reply": "2025-10-16T11:21:43.788887Z",
     "shell.execute_reply.started": "2025-10-16T11:21:43.659219Z"
    }
   },
   "outputs": [],
   "source": [
    "# Create allow to invoke permission on lambda\n",
    "lambda_client = boto3.client('lambda')\n",
    "\n",
    "response = lambda_client.add_permission(\n",
    "        FunctionName=lambda_function_name,\n",
    "        StatementId=f'allow_bedrock_{agent_id}',\n",
    "        Action='lambda:InvokeFunction',\n",
    "        Principal='bedrock.amazonaws.com',\n",
    "        SourceArn=f\"arn:aws:bedrock:{region}:{account_id}:agent/{agent_id}\",\n",
    "    )"
   ]
  },
  {
   "cell_type": "markdown",
   "id": "352f8615-37ed-449d-b977-cb0568d9bac2",
   "metadata": {},
   "source": [
    "# Activate Agent\n",
    "\n",
    "We have now defined our agent and its associated action.\n",
    "- Finish associating the IAM permissions\n",
    "- Now we can prepare and invoke it."
   ]
  },
  {
   "cell_type": "code",
   "execution_count": null,
   "id": "fc8a4a69-5be3-44dc-a44b-e586918e504c",
   "metadata": {
    "execution": {
     "iopub.execute_input": "2025-10-16T11:23:23.606844Z",
     "iopub.status.busy": "2025-10-16T11:23:23.606592Z",
     "iopub.status.idle": "2025-10-16T11:23:23.872922Z",
     "shell.execute_reply": "2025-10-16T11:23:23.872276Z",
     "shell.execute_reply.started": "2025-10-16T11:23:23.606824Z"
    }
   },
   "outputs": [],
   "source": [
    "response = bedrock_agent_client.prepare_agent(\n",
    "    agentId=agent_id\n",
    ")\n",
    "response"
   ]
  },
  {
   "cell_type": "code",
   "execution_count": 25,
   "id": "52ae095b-8109-4dab-902c-162ff8c6b7fd",
   "metadata": {
    "execution": {
     "iopub.execute_input": "2025-10-16T11:24:18.763538Z",
     "iopub.status.busy": "2025-10-16T11:24:18.763278Z",
     "iopub.status.idle": "2025-10-16T11:24:18.766488Z",
     "shell.execute_reply": "2025-10-16T11:24:18.765807Z",
     "shell.execute_reply.started": "2025-10-16T11:24:18.763518Z"
    }
   },
   "outputs": [],
   "source": [
    "alias_id = 'TSTALIASID' # it works with any agent"
   ]
  },
  {
   "cell_type": "code",
   "execution_count": 38,
   "id": "fdccd3a3-a910-4dfe-8bd8-1754996b44bb",
   "metadata": {
    "execution": {
     "iopub.execute_input": "2025-10-16T11:52:40.424972Z",
     "iopub.status.busy": "2025-10-16T11:52:40.424693Z",
     "iopub.status.idle": "2025-10-16T11:52:40.428494Z",
     "shell.execute_reply": "2025-10-16T11:52:40.427552Z",
     "shell.execute_reply.started": "2025-10-16T11:52:40.424948Z"
    }
   },
   "outputs": [],
   "source": [
    "session_id = str(uuid.uuid1())\n",
    "query = \"Hi, I am Emma. I want to be notifier about the time.\""
   ]
  },
  {
   "cell_type": "code",
   "execution_count": null,
   "id": "08702704-c052-4a1f-9b55-fbbe8fc632ee",
   "metadata": {
    "execution": {
     "iopub.execute_input": "2025-10-16T11:52:42.672457Z",
     "iopub.status.busy": "2025-10-16T11:52:42.672201Z",
     "iopub.status.idle": "2025-10-16T11:52:50.020835Z",
     "shell.execute_reply": "2025-10-16T11:52:50.020131Z",
     "shell.execute_reply.started": "2025-10-16T11:52:42.672437Z"
    }
   },
   "outputs": [],
   "source": [
    "response = invoke_agent_helper(query, session_id, agent_id, alias_id)\n",
    "response"
   ]
  },
  {
   "cell_type": "code",
   "execution_count": null,
   "id": "a0bdc05f-7007-459c-ab26-5e5336b3abad",
   "metadata": {
    "execution": {
     "iopub.execute_input": "2025-10-16T11:52:50.022580Z",
     "iopub.status.busy": "2025-10-16T11:52:50.021819Z",
     "iopub.status.idle": "2025-10-16T11:52:55.500340Z",
     "shell.execute_reply": "2025-10-16T11:52:55.499647Z",
     "shell.execute_reply.started": "2025-10-16T11:52:50.022550Z"
    }
   },
   "outputs": [],
   "source": [
    "invoke_agent_helper(\"Claro. 98861\", session_id, agent_id, alias_id)"
   ]
  },
  {
   "cell_type": "code",
   "execution_count": null,
   "id": "cb9a5c51-f2f8-4618-9e3d-5406c7ddaace",
   "metadata": {},
   "outputs": [],
   "source": []
  }
 ],
 "metadata": {
  "kernelspec": {
   "display_name": "Python 3 (ipykernel)",
   "language": "python",
   "name": "python3"
  },
  "language_info": {
   "codemirror_mode": {
    "name": "ipython",
    "version": 3
   },
   "file_extension": ".py",
   "mimetype": "text/x-python",
   "name": "python",
   "nbconvert_exporter": "python",
   "pygments_lexer": "ipython3",
   "version": "3.12.9"
  }
 },
 "nbformat": 4,
 "nbformat_minor": 5
}
