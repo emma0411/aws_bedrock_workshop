{
 "cells": [
  {
   "cell_type": "markdown",
   "id": "0e1649c5-a7d6-4636-b8ac-0af99817f66f",
   "metadata": {},
   "source": [
    "# Create Knowledge Bases "
   ]
  },
  {
   "cell_type": "markdown",
   "id": "9dec37ea-2939-4271-a31b-c00c8b667f55",
   "metadata": {
    "execution": {
     "iopub.execute_input": "2025-10-15T18:40:26.883545Z",
     "iopub.status.busy": "2025-10-15T18:40:26.883274Z",
     "iopub.status.idle": "2025-10-15T18:40:26.888594Z",
     "shell.execute_reply": "2025-10-15T18:40:26.887692Z",
     "shell.execute_reply.started": "2025-10-15T18:40:26.883524Z"
    }
   },
   "source": [
    "In this notebook, we will learn how to configure and use a Knowledge Base (KB) in AWS Bedrock, with the aim of implementing a Retrieval-Augmented Generation (RAG) architecture.\n",
    "\n",
    "The RAG approach combines the power of generative models with external information sources, allowing the model to respond with up-to-date, accurate, and data-driven context.\n",
    "\n",
    "For this example, you must have the following template enabled in your AWS account:\n",
    "\n",
    "- amazon.titan-embed-text-v2:0\n",
    "\n",
    "\n",
    "This model will be used to generate vector representations of the text and enable efficient semantic search within the Knowledge Base.\n",
    "\n",
    "Notebook contents\n",
    "\n",
    "- Initial setup and connection to Bedrock.\n",
    "\n",
    "- Creation and configuration of the Knowledge Base.\n",
    "\n",
    "- Document ingestion.\n",
    "- Consulta mediante RAG."
   ]
  },
  {
   "cell_type": "code",
   "execution_count": 19,
   "id": "52623a28-a083-4d2b-a4a5-27f1aab184ce",
   "metadata": {
    "execution": {
     "iopub.execute_input": "2025-10-15T20:11:28.382831Z",
     "iopub.status.busy": "2025-10-15T20:11:28.382523Z",
     "iopub.status.idle": "2025-10-15T20:11:28.386274Z",
     "shell.execute_reply": "2025-10-15T20:11:28.385345Z",
     "shell.execute_reply.started": "2025-10-15T20:11:28.382808Z"
    }
   },
   "outputs": [],
   "source": [
    "#!pip install requests-aws4auth\n",
    "#!pip install opensearch-py"
   ]
  },
  {
   "cell_type": "code",
   "execution_count": 5,
   "id": "c081d386-4687-4188-ab7d-91683ac1aec0",
   "metadata": {
    "execution": {
     "iopub.execute_input": "2025-10-15T19:53:30.314599Z",
     "iopub.status.busy": "2025-10-15T19:53:30.314334Z",
     "iopub.status.idle": "2025-10-15T19:53:30.317738Z",
     "shell.execute_reply": "2025-10-15T19:53:30.316971Z",
     "shell.execute_reply.started": "2025-10-15T19:53:30.314578Z"
    }
   },
   "outputs": [],
   "source": [
    "import os\n",
    "import sys\n",
    "import json\n",
    "import time\n",
    "import random\n",
    "\n",
    "import boto3\n",
    "from requests_aws4auth import AWS4Auth\n",
    "from opensearchpy import OpenSearch, RequestsHttpConnection"
   ]
  },
  {
   "cell_type": "code",
   "execution_count": 37,
   "id": "5d3af8f6-72ef-44a4-8504-80922f9fe931",
   "metadata": {
    "execution": {
     "iopub.execute_input": "2025-10-15T20:52:25.922363Z",
     "iopub.status.busy": "2025-10-15T20:52:25.922101Z",
     "iopub.status.idle": "2025-10-15T20:52:25.947512Z",
     "shell.execute_reply": "2025-10-15T20:52:25.946792Z",
     "shell.execute_reply.started": "2025-10-15T20:52:25.922342Z"
    }
   },
   "outputs": [],
   "source": [
    "# Create boto3 session \n",
    "boto_session = boto3.Session()\n",
    "aws_region = boto_session.region_name\n",
    "\n",
    "aoss_client = boto3.client('opensearchserverless')\n",
    "bedrock_agent_client = boto3.client('bedrock-agent')\n",
    "s3_client = boto3.client('s3')"
   ]
  },
  {
   "cell_type": "code",
   "execution_count": 29,
   "id": "602a34fd-7092-45a7-a73e-35200b469d2a",
   "metadata": {
    "execution": {
     "iopub.execute_input": "2025-10-15T20:18:07.072741Z",
     "iopub.status.busy": "2025-10-15T20:18:07.072425Z",
     "iopub.status.idle": "2025-10-15T20:18:07.076024Z",
     "shell.execute_reply": "2025-10-15T20:18:07.075333Z",
     "shell.execute_reply.started": "2025-10-15T20:18:07.072719Z"
    }
   },
   "outputs": [],
   "source": [
    "# Set the Bedrock models \n",
    "model_id = 'eu.anthropic.claude-3-7-sonnet-20250219-v1:0'\n",
    "model_arn = f'arn:aws:bedrock:{aws_region}::foundation-model/{model_id}'\n",
    "\n",
    "embedding_model_id = 'amazon.titan-embed-text-v2:0'\n",
    "embedding_model_arn = f'arn:aws:bedrock:{aws_region}::foundation-model/{embedding_model_id}'\n",
    "embedding_model_dim = 1024"
   ]
  },
  {
   "cell_type": "code",
   "execution_count": null,
   "id": "069a6428-efad-4c13-92d9-bece561a4b59",
   "metadata": {
    "execution": {
     "iopub.execute_input": "2025-10-15T19:54:07.191827Z",
     "iopub.status.busy": "2025-10-15T19:54:07.191561Z",
     "iopub.status.idle": "2025-10-15T19:54:07.303819Z",
     "shell.execute_reply": "2025-10-15T19:54:07.303015Z",
     "shell.execute_reply.started": "2025-10-15T19:54:07.191805Z"
    }
   },
   "outputs": [],
   "source": [
    "# Define names \n",
    "aoss_collection_name = f\"bedrock-kb-collection-workshop\"\n",
    "aoss_index_name = \"bedrock-kb-index-workshop\"\n",
    "bedrock_kb_name = \"bedrock-kb-workshop\""
   ]
  },
  {
   "cell_type": "markdown",
   "id": "50bd2c67-edba-44a2-97b1-9fd226e83e06",
   "metadata": {},
   "source": [
    "# Choose data"
   ]
  },
  {
   "cell_type": "code",
   "execution_count": 9,
   "id": "a4f5d6f8-fbe3-4b26-9298-2be8f07bdecc",
   "metadata": {
    "execution": {
     "iopub.execute_input": "2025-10-15T20:00:30.886389Z",
     "iopub.status.busy": "2025-10-15T20:00:30.886104Z",
     "iopub.status.idle": "2025-10-15T20:00:30.889630Z",
     "shell.execute_reply": "2025-10-15T20:00:30.888753Z",
     "shell.execute_reply.started": "2025-10-15T20:00:30.886366Z"
    }
   },
   "outputs": [],
   "source": [
    "s3_bucket_name = 'ia-aws-oct-2025' \n",
    "path = \"rag\""
   ]
  },
  {
   "cell_type": "markdown",
   "id": "8d8d733a-86bd-4c73-ac1d-6583a338d12a",
   "metadata": {},
   "source": [
    "## Create KB"
   ]
  },
  {
   "cell_type": "markdown",
   "id": "c89f79af-938b-48c8-a8f6-f2dac35b3eff",
   "metadata": {
    "execution": {
     "iopub.execute_input": "2025-10-15T20:01:30.604004Z",
     "iopub.status.busy": "2025-10-15T20:01:30.603702Z",
     "iopub.status.idle": "2025-10-15T20:01:30.609008Z",
     "shell.execute_reply": "2025-10-15T20:01:30.607923Z",
     "shell.execute_reply.started": "2025-10-15T20:01:30.603978Z"
    }
   },
   "source": [
    "First, we need to create the vectors in the database in Amazon OpenSearch Serverless (AOSS). To do this, we must grant permissions to the invocation role."
   ]
  },
  {
   "cell_type": "code",
   "execution_count": null,
   "id": "25af1673-6797-4bcb-8b34-a25c91c8ed28",
   "metadata": {
    "execution": {
     "iopub.execute_input": "2025-10-15T20:02:07.453045Z",
     "iopub.status.busy": "2025-10-15T20:02:07.452763Z",
     "iopub.status.idle": "2025-10-15T20:02:08.687831Z",
     "shell.execute_reply": "2025-10-15T20:02:08.687125Z",
     "shell.execute_reply.started": "2025-10-15T20:02:07.453021Z"
    }
   },
   "outputs": [],
   "source": [
    "bedrock_kb_execution_role_arn = \"arn:aws:iam::XXXXXXXX:role/AmazonBedrockExecutionRoleForKnowledgeBase_XXXX\""
   ]
  },
  {
   "cell_type": "code",
   "execution_count": null,
   "id": "e4b8c7cd-e959-4878-9951-37e65e59497a",
   "metadata": {
    "execution": {
     "iopub.execute_input": "2025-10-15T20:03:25.180313Z",
     "iopub.status.busy": "2025-10-15T20:03:25.180034Z",
     "iopub.status.idle": "2025-10-15T20:06:52.598101Z",
     "shell.execute_reply": "2025-10-15T20:06:52.597349Z",
     "shell.execute_reply.started": "2025-10-15T20:03:25.180292Z"
    }
   },
   "outputs": [],
   "source": [
    "# Request to create AOSS collection\n",
    "aoss_collection = aoss_client.create_collection(name=aoss_collection_name, type='VECTORSEARCH')\n",
    "\n",
    "# Wait until collection becomes active\n",
    "time.sleep(5)"
   ]
  },
  {
   "cell_type": "markdown",
   "id": "922faaaa-b6c3-4f91-9fd0-4a1a8b2889f4",
   "metadata": {
    "jp-MarkdownHeadingCollapsed": true
   },
   "source": [
    "## Vector Index\n",
    "\n",
    "Define vector index into AOSS"
   ]
  },
  {
   "cell_type": "code",
   "execution_count": 20,
   "id": "0a8ddab9-48f6-41bc-8f5c-7571c1f478eb",
   "metadata": {
    "execution": {
     "iopub.execute_input": "2025-10-15T20:11:35.920927Z",
     "iopub.status.busy": "2025-10-15T20:11:35.920647Z",
     "iopub.status.idle": "2025-10-15T20:11:36.118993Z",
     "shell.execute_reply": "2025-10-15T20:11:36.118406Z",
     "shell.execute_reply.started": "2025-10-15T20:11:35.920905Z"
    }
   },
   "outputs": [],
   "source": [
    "# Use default credential configuration for authentication\n",
    "credentials = boto_session.get_credentials()\n",
    "awsauth = AWS4Auth(\n",
    "    credentials.access_key,\n",
    "    credentials.secret_key,\n",
    "    aws_region,\n",
    "    'aoss',\n",
    "    session_token=credentials.token)\n",
    "\n",
    "# Construct AOSS endpoint host\n",
    "host = f\"{aoss_collection['createCollectionDetail']['id']}.{aws_region}.aoss.amazonaws.com\"\n",
    "\n",
    "# Build the OpenSearch client\n",
    "os_client = OpenSearch(\n",
    "    hosts=[{'host': host, 'port': 443}],\n",
    "    http_auth=awsauth,\n",
    "    use_ssl=True,\n",
    "    verify_certs=True,\n",
    "    connection_class=RequestsHttpConnection,\n",
    "    timeout=300\n",
    ")"
   ]
  },
  {
   "cell_type": "code",
   "execution_count": null,
   "id": "7e410c27-cfcc-4c85-a56f-9addb533a659",
   "metadata": {
    "execution": {
     "iopub.execute_input": "2025-10-15T20:11:40.331064Z",
     "iopub.status.busy": "2025-10-15T20:11:40.330687Z",
     "iopub.status.idle": "2025-10-15T20:12:10.792452Z",
     "shell.execute_reply": "2025-10-15T20:12:10.791751Z",
     "shell.execute_reply.started": "2025-10-15T20:11:40.331039Z"
    }
   },
   "outputs": [],
   "source": [
    "# Define the configuration for the AOSS vector index\n",
    "index_definition = {\n",
    "   \"settings\": {\n",
    "      \"index.knn\": \"true\",\n",
    "       \"number_of_shards\": 1,\n",
    "       \"knn.algo_param.ef_search\": 512,\n",
    "       \"number_of_replicas\": 0,\n",
    "   },\n",
    "   \"mappings\": {\n",
    "      \"properties\": {\n",
    "         \"vector\": {\n",
    "            \"type\": \"knn_vector\",\n",
    "            \"dimension\": embedding_model_dim,\n",
    "             \"method\": {\n",
    "                 \"name\": \"hnsw\",\n",
    "                 \"engine\": \"faiss\",\n",
    "                 \"space_type\": \"l2\"\n",
    "             },\n",
    "         },\n",
    "         \"text\": {\n",
    "            \"type\": \"text\"\n",
    "         },\n",
    "         \"text-metadata\": {\n",
    "            \"type\": \"text\"\n",
    "         }\n",
    "      }\n",
    "   }\n",
    "}\n",
    "\n",
    "# Create an OpenSearch index\n",
    "response = os_client.indices.create(index=aoss_index_name, body=index_definition)\n",
    "\n",
    "# Waiting for index creation to propagate\n",
    "time.sleep(40)\n",
    "\n",
    "print(\"A new AOSS index created:\", json.dumps(response, indent=2))"
   ]
  },
  {
   "cell_type": "markdown",
   "id": "23f1d062-0a41-4d24-bc5e-6232e6222819",
   "metadata": {},
   "source": [
    "# Knowledge Base\n",
    "\n",
    "Once we have the vectors, we can define our database based on them."
   ]
  },
  {
   "cell_type": "code",
   "execution_count": null,
   "id": "d8162c93-2304-4474-a366-9f5e1fce0588",
   "metadata": {
    "execution": {
     "iopub.execute_input": "2025-10-15T20:52:33.167522Z",
     "iopub.status.busy": "2025-10-15T20:52:33.167243Z",
     "iopub.status.idle": "2025-10-15T20:52:33.501661Z",
     "shell.execute_reply": "2025-10-15T20:52:33.500646Z",
     "shell.execute_reply.started": "2025-10-15T20:52:33.167499Z"
    }
   },
   "outputs": [],
   "source": [
    "# Vector Storage Configuration\n",
    "storage_config = {\n",
    "    \"type\": \"OPENSEARCH_SERVERLESS\",\n",
    "    \"opensearchServerlessConfiguration\": {\n",
    "        \"collectionArn\": aoss_collection[\"createCollectionDetail\"]['arn'],\n",
    "        \"vectorIndexName\": aoss_index_name,\n",
    "        \"fieldMapping\": {\n",
    "            \"vectorField\": \"vector\",\n",
    "            \"textField\": \"text\",\n",
    "            \"metadataField\": \"text-metadata\"\n",
    "        }\n",
    "    }\n",
    "}\n",
    "\n",
    "# Knowledge Base Configuration\n",
    "knowledge_base_config = {\n",
    "    \"type\": \"VECTOR\",\n",
    "    \"vectorKnowledgeBaseConfiguration\": {\n",
    "        \"embeddingModelArn\": embedding_model_arn\n",
    "    }\n",
    "}\n",
    "\n",
    "response = bedrock_agent_client.create_knowledge_base(\n",
    "    name=bedrock_kb_name,\n",
    "    description=\"Amazon shareholder letter knowledge base.\",\n",
    "    roleArn=bedrock_kb_execution_role_arn,\n",
    "    knowledgeBaseConfiguration=knowledge_base_config,\n",
    "    storageConfiguration=storage_config)\n",
    "\n",
    "bedrock_kb_id = response['knowledgeBase']['knowledgeBaseId']\n",
    "\n",
    "print(\"Waiting until BKB becomes active: \", end='')\n",
    "time.sleep(120)"
   ]
  },
  {
   "cell_type": "code",
   "execution_count": null,
   "id": "15cb38ec-6afc-4994-8644-f6f4ac36ff1c",
   "metadata": {},
   "outputs": [],
   "source": [
    "response = bedrock_agent_client.get_knowledge_base(knowledgeBaseId=bedrock_kb_id)\n",
    "\n",
    "print(json.dumps(response['knowledgeBase'], indent=2, default=str))"
   ]
  },
  {
   "cell_type": "markdown",
   "id": "9ae6c5fc-41ba-4340-93fb-9ebbf6b45578",
   "metadata": {},
   "source": [
    "# Connect KB with database"
   ]
  },
  {
   "cell_type": "code",
   "execution_count": null,
   "id": "41f3fa68-d059-4161-8383-41a44db57d3e",
   "metadata": {},
   "outputs": [],
   "source": [
    "# KB and Vector Ingestion Configuration\n",
    "response = bedrock_agent_client.create_data_source(\n",
    "    name=bedrock_kb_name,\n",
    "    description=\"Amazon shareholder letter knowledge base.\",\n",
    "    knowledgeBaseId=bedrock_kb_id,\n",
    "    dataSourceConfiguration={\n",
    "        \"type\": \"S3\",\n",
    "        \"s3Configuration\":{\n",
    "            \"bucketArn\": f\"arn:aws:s3:::{s3_bucket_name}\",\n",
    "        }\n",
    "    },\n",
    "    vectorIngestionConfiguration={\n",
    "        \"chunkingConfiguration\": {\n",
    "            \"chunkingStrategy\": \"FIXED_SIZE\",\n",
    "            \"fixedSizeChunkingConfiguration\": {\n",
    "                \"maxTokens\": 512,\n",
    "                \"overlapPercentage\": 20\n",
    "            }\n",
    "        }\n",
    "    }\n",
    ")\n",
    "\n",
    "bedrock_ds_id = response['dataSource']['dataSourceId']\n",
    "\n",
    "bedrock_ds_id"
   ]
  },
  {
   "cell_type": "code",
   "execution_count": null,
   "id": "0fd31ef1-fd88-48fa-8765-e59d5153e24f",
   "metadata": {},
   "outputs": [],
   "source": [
    "# Start an ingestion job\n",
    "response = bedrock_agent_client.start_ingestion_job(knowledgeBaseId=bedrock_kb_id, dataSourceId=bedrock_ds_id)\n",
    "\n",
    "bedrock_job_id = response['ingestionJob']['ingestionJobId']\n",
    "bedrock_job_id\n",
    "\n",
    "# Wait until ingestion job completes\n",
    "time.sleep(120)"
   ]
  },
  {
   "cell_type": "markdown",
   "id": "ba8ee87a-36c1-485f-a6c4-f85fdb0ac5d5",
   "metadata": {
    "execution": {
     "iopub.execute_input": "2025-10-15T20:12:50.149152Z",
     "iopub.status.busy": "2025-10-15T20:12:50.148841Z",
     "iopub.status.idle": "2025-10-15T20:12:50.153841Z",
     "shell.execute_reply": "2025-10-15T20:12:50.152844Z",
     "shell.execute_reply.started": "2025-10-15T20:12:50.149127Z"
    }
   },
   "source": [
    "# Retrive and generate\n",
    "\n",
    "Once our KB is available, we can use *retrieve_and_generate* to perform RAG on it."
   ]
  },
  {
   "cell_type": "code",
   "execution_count": null,
   "id": "c5be1f59-7881-4d9c-b478-c27a12031f7e",
   "metadata": {},
   "outputs": [],
   "source": [
    "bedrock_agent_client = boto3.client('bedrock-agent-runtime')"
   ]
  },
  {
   "cell_type": "code",
   "execution_count": 24,
   "id": "aef0061e-cc08-4dca-b1e2-2b41b41b6208",
   "metadata": {
    "execution": {
     "iopub.execute_input": "2025-10-15T20:16:22.374037Z",
     "iopub.status.busy": "2025-10-15T20:16:22.373752Z",
     "iopub.status.idle": "2025-10-15T20:16:22.377068Z",
     "shell.execute_reply": "2025-10-15T20:16:22.376278Z",
     "shell.execute_reply.started": "2025-10-15T20:16:22.374016Z"
    }
   },
   "outputs": [],
   "source": [
    "user_query = \"What is FP32?\""
   ]
  },
  {
   "cell_type": "code",
   "execution_count": null,
   "id": "2f7039f7-a992-415c-b4f2-0e01bc1c9536",
   "metadata": {},
   "outputs": [],
   "source": [
    "# retrieve and generate\n",
    "response = bedrock_agent_client.retrieve_and_generate(\n",
    "    input={\n",
    "        'text': user_query\n",
    "    },\n",
    "    retrieveAndGenerateConfiguration={\n",
    "        'type': 'KNOWLEDGE_BASE',\n",
    "        'knowledgeBaseConfiguration': {\n",
    "            'knowledgeBaseId': bedrock_kb_id,\n",
    "            'modelArn': model_arn\n",
    "        }\n",
    "    }\n",
    ")"
   ]
  },
  {
   "cell_type": "code",
   "execution_count": null,
   "id": "bb2a5a85-cd77-488b-844c-0ef328ec54c7",
   "metadata": {},
   "outputs": [],
   "source": [
    "print(\"Final reply:\\n\", response['output']['text'])"
   ]
  },
  {
   "cell_type": "markdown",
   "id": "784ac6f4-7802-4907-9529-64ee0549e1b9",
   "metadata": {},
   "source": [
    "# Clean "
   ]
  },
  {
   "cell_type": "code",
   "execution_count": null,
   "id": "b145617b-e0ef-4e27-a44d-e775f3a273d5",
   "metadata": {
    "execution": {
     "iopub.execute_input": "2025-10-15T20:53:25.437652Z",
     "iopub.status.busy": "2025-10-15T20:53:25.437271Z",
     "iopub.status.idle": "2025-10-15T20:53:25.890595Z",
     "shell.execute_reply": "2025-10-15T20:53:25.889893Z",
     "shell.execute_reply.started": "2025-10-15T20:53:25.437626Z"
    }
   },
   "outputs": [],
   "source": [
    "# Delete AOSS \n",
    "\n",
    "# aoss_client.delete_collection(id=aoss_collection['createCollectionDetail']['id'])\n",
    "# aoss_client.delete_access_policy(type=\"data\", name=aoss_access_policy['accessPolicyDetail']['name'])\n",
    "# aoss_client.delete_security_policy(type=\"network\", name=aoss_network_policy['securityPolicyDetail']['name'])\n",
    "# aoss_client.delete_security_policy(type=\"encryption\", name=aoss_encryption_policy['securityPolicyDetail']['name'])"
   ]
  },
  {
   "cell_type": "code",
   "execution_count": null,
   "id": "e4abf6fc-8755-4c2f-86de-4557785dcc92",
   "metadata": {},
   "outputs": [],
   "source": []
  }
 ],
 "metadata": {
  "kernelspec": {
   "display_name": "Python 3 (ipykernel)",
   "language": "python",
   "name": "python3"
  },
  "language_info": {
   "codemirror_mode": {
    "name": "ipython",
    "version": 3
   },
   "file_extension": ".py",
   "mimetype": "text/x-python",
   "name": "python",
   "nbconvert_exporter": "python",
   "pygments_lexer": "ipython3",
   "version": "3.12.9"
  }
 },
 "nbformat": 4,
 "nbformat_minor": 5
}
